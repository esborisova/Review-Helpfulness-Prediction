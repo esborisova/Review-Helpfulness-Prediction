{
 "cells": [
  {
   "cell_type": "code",
   "execution_count": 72,
   "metadata": {},
   "outputs": [],
   "source": [
    "def update_url(url: str, \n",
    "               id: str, \n",
    "               search_pattern: str,\n",
    "               sub_pattern: str) -> str:\n",
    "\n",
    "    id_to_remove = re.findall(search_pattern, url)\n",
    "    id_to_remove = [re.sub(sub_pattern, '', id) for id in id_to_remove]\n",
    "    id_to_remove = ' '.join([str(elem) for elem in id_to_remove])\n",
    "    new_url = re.sub(id_to_remove,id, url_base)\n",
    "\n",
    "    return new_url\n"
   ]
  },
  {
   "cell_type": "code",
   "execution_count": 79,
   "metadata": {},
   "outputs": [],
   "source": [
    "\n",
    "import urllib.request \n",
    "import urllib.parse \n",
    "import json\n",
    "import pandas as pd\n",
    "from typing import List"
   ]
  },
  {
   "cell_type": "code",
   "execution_count": 80,
   "metadata": {},
   "outputs": [],
   "source": [
    "def collect_reviews(url_base: str, \n",
    "                    num_pages: int, \n",
    "                    review_key: str,\n",
    "                    cursor_key: str) -> List[dict]:\n",
    "    \"\"\"Collects reviews per page from Steam via API\n",
    "\n",
    "    Args:\n",
    "        url_base (str): A string containg url with a game id \n",
    "        num_pages (int): The number of pages to loop over and save reviews\n",
    "        review_key (str): A key for reviews\n",
    "        cursor_key (str): A key for a cursor\n",
    "    \n",
    "    Returns:\n",
    "        List[dict]: A list of dictionaries (json format) containing all review/reviewer info\n",
    "    \n",
    "    \"\"\"\n",
    "\n",
    "    next_cursor = '*'\n",
    "    data = []\n",
    "\n",
    "    for i in range(num_pages):\n",
    "        url_temp = url_base + next_cursor\n",
    "        url = urllib.request.urlopen(url_temp)\n",
    "        tmp_data = json.loads(url.read().decode())\n",
    "        for i in range(len(tmp_data[review_key])):\n",
    "            data.append(tmp_data[review_key][i])\n",
    "            next_cursor = urllib.parse.quote(tmp_data[cursor_key]) \n",
    "  \n",
    "    return data\n",
    "\n"
   ]
  },
  {
   "cell_type": "code",
   "execution_count": 85,
   "metadata": {},
   "outputs": [
    {
     "name": "stdout",
     "output_type": "stream",
     "text": [
      "https://store.steampowered.com/appreviews/374320?json=1&filter=recent&num_per_page=100&cursor=\n",
      "https://store.steampowered.com/appreviews/374320?json=1&filter=recent&num_per_page=100&cursor=\n",
      "https://store.steampowered.com/appreviews/275850?json=1&filter=recent&num_per_page=100&cursor=\n",
      "https://store.steampowered.com/appreviews/377160?json=1&filter=recent&num_per_page=100&cursor=\n",
      "https://store.steampowered.com/appreviews/218620?json=1&filter=recent&num_per_page=100&cursor=\n",
      "https://store.steampowered.com/appreviews/221100?json=1&filter=recent&num_per_page=100&cursor=\n",
      "https://store.steampowered.com/appreviews/319630?json=1&filter=recent&num_per_page=100&cursor=\n",
      "https://store.steampowered.com/appreviews/227300?json=1&filter=recent&num_per_page=100&cursor=\n",
      "https://store.steampowered.com/appreviews/346110?json=1&filter=recent&num_per_page=100&cursor=\n",
      "https://store.steampowered.com/appreviews/264710?json=1&filter=recent&num_per_page=100&cursor=\n",
      "https://store.steampowered.com/appreviews/242760?json=1&filter=recent&num_per_page=100&cursor=\n",
      "https://store.steampowered.com/appreviews/107410?json=1&filter=recent&num_per_page=100&cursor=\n",
      "https://store.steampowered.com/appreviews/578080?json=1&filter=recent&num_per_page=100&cursor=\n",
      "https://store.steampowered.com/appreviews/435150?json=1&filter=recent&num_per_page=100&cursor=\n",
      "https://store.steampowered.com/appreviews/814380?json=1&filter=recent&num_per_page=100&cursor=\n",
      "https://store.steampowered.com/appreviews/431960?json=1&filter=recent&num_per_page=100&cursor=\n",
      "https://store.steampowered.com/appreviews/322330?json=1&filter=recent&num_per_page=100&cursor=\n",
      "https://store.steampowered.com/appreviews/239140?json=1&filter=recent&num_per_page=100&cursor=\n",
      "https://store.steampowered.com/appreviews/250900?json=1&filter=recent&num_per_page=100&cursor=\n",
      "https://store.steampowered.com/appreviews/289070?json=1&filter=recent&num_per_page=100&cursor=\n",
      "https://store.steampowered.com/appreviews/261550?json=1&filter=recent&num_per_page=100&cursor=\n",
      "https://store.steampowered.com/appreviews/252490?json=1&filter=recent&num_per_page=100&cursor=\n",
      "https://store.steampowered.com/appreviews/413150?json=1&filter=recent&num_per_page=100&cursor=\n",
      "https://store.steampowered.com/appreviews/271590?json=1&filter=recent&num_per_page=100&cursor=\n",
      "https://store.steampowered.com/appreviews/582010?json=1&filter=recent&num_per_page=100&cursor=\n",
      "https://store.steampowered.com/appreviews/620?json=1&filter=recent&num_per_page=100&cursor=\n",
      "26\n"
     ]
    }
   ],
   "source": [
    "import re \n",
    "\n",
    "data = []\n",
    "url_base = 'https://store.steampowered.com/appreviews/374320?json=1&filter=recent&num_per_page=100&cursor='\n",
    "ids = ['374320','275850', '377160', '218620', '221100', '319630', '227300', '346110', '264710', '242760', '107410', '578080', '435150', '814380', '431960', '322330', '239140', '250900', '289070', '261550', '252490', '413150', '271590', '582010', '620', '550']\n",
    "\n",
    "for id in ids:\n",
    "    print(url_base)\n",
    "    if id not in url_base:\n",
    "        url_base = update_url(url_base, id, r'\\/\\d+\\?', '[^A-Za-z0-9]+')\n",
    "    \n",
    "    \n",
    "    data.append(collect_reviews(url_base = url_base, \n",
    "                                num_pages = 2,\n",
    "                                review_key = 'reviews',\n",
    "                                cursor_key = 'cursor'))\n",
    "print(len(data))\n",
    "    "
   ]
  },
  {
   "cell_type": "code",
   "execution_count": 86,
   "metadata": {},
   "outputs": [
    {
     "name": "stdout",
     "output_type": "stream",
     "text": [
      "5200\n"
     ]
    }
   ],
   "source": [
    "flat_list = [item for sublist in data for item in sublist]\n",
    "print(len(flat_list))"
   ]
  },
  {
   "cell_type": "code",
   "execution_count": 71,
   "metadata": {},
   "outputs": [
    {
     "name": "stdout",
     "output_type": "stream",
     "text": [
      "374320\n",
      "https://store.steampowered.com/appreviews/63465?json=1&filter=recent&num_per_page=100&cursor=\n"
     ]
    }
   ],
   "source": [
    "import re \n",
    "\n",
    "url_base = 'https://store.steampowered.com/appreviews/374320?json=1&filter=recent&num_per_page=100&cursor='\n",
    "id = '63465'\n",
    "\n",
    "\n",
    "id_to_remove = re.findall(r'\\/\\d+\\?', url_base)\n",
    "id_to_remove = [re.sub('[^A-Za-z0-9]+', '', id) for id in id_to_remove]\n",
    "id_to_remove = ' '.join([str(elem) for elem in id_to_remove])\n",
    "print(id_to_remove)\n",
    "new_url = re.sub(id_to_remove,id, url_base)\n",
    "print(new_url)\n",
    "\n",
    "#new_url = id_removed + id_to_add + '?' + splitted_url[1]"
   ]
  },
  {
   "cell_type": "code",
   "execution_count": 34,
   "metadata": {},
   "outputs": [
    {
     "name": "stdout",
     "output_type": "stream",
     "text": [
      "pattern not found\n"
     ]
    }
   ],
   "source": [
    "import re\n",
    "\n",
    "string = '39801This364is5?356'\n",
    "\n",
    "# Three digit number followed by space followed by two digit number\n",
    "pattern = '(This)\\d(is)'\n",
    "\n",
    "# match variable contains a Match object.\n",
    "match = re.match(pattern, string) \n",
    "\n",
    "if match:\n",
    "  print(match.group())\n",
    "else:\n",
    "  print(\"pattern not found\")\n"
   ]
  },
  {
   "cell_type": "code",
   "execution_count": 39,
   "metadata": {},
   "outputs": [
    {
     "data": {
      "text/plain": [
       "['374320?']"
      ]
     },
     "execution_count": 39,
     "metadata": {},
     "output_type": "execute_result"
    }
   ],
   "source": [
    "re.findall(r'\\b\\d+\\?', \"'https://store.steampowered.com/appreviews/374320?json=1&filter=recent&num_per_page=100&cursor='\")"
   ]
  }
 ],
 "metadata": {
  "interpreter": {
   "hash": "d6805e15886aab53026236d0c7a2691c0f3a4936a9fa243a37c54dfd5efd3ad7"
  },
  "kernelspec": {
   "display_name": "Python 3.8.10 ('myproject-o7xzvy_i')",
   "language": "python",
   "name": "python3"
  },
  "language_info": {
   "codemirror_mode": {
    "name": "ipython",
    "version": 3
   },
   "file_extension": ".py",
   "mimetype": "text/x-python",
   "name": "python",
   "nbconvert_exporter": "python",
   "pygments_lexer": "ipython3",
   "version": "3.8.10"
  },
  "orig_nbformat": 4
 },
 "nbformat": 4,
 "nbformat_minor": 2
}
