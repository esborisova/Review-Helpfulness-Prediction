{
 "cells": [
  {
   "cell_type": "markdown",
   "metadata": {},
   "source": [
    "**Object Count**\n",
    "\n",
    "Query\n",
    "\n",
    "Show count of *’Site’* per *’Provenance’* per *’Year’* in an amphora\n",
    "date range.\n",
    "\n",
    "Steps\n",
    "\n",
    "1.  Identify the list of (non unique for now) *‘Sites’* per *‘Amphora\n",
    "    type’* per *‘Provenance’*.\n",
    "\n",
    "    To that end, the *‘Sites’* are grouped by *‘Amphora type’*,\n",
    "    *‘Amphora lower date’*, *‘Amphora upper date’* and *‘Provenance’*.\n",
    "    This is done with `‘pd.groupby()‘` function. To get a list of strings\n",
    "    with *’Site’* names separated by comma, `‘split()‘` method is used.\n",
    "\n",
    "    *Example*: In Sonata dataset, for *‘Amphora type’* == *‘AE 3’*\n",
    "    present in *‘Provenance’* == *‘Egypt’* with date range\n",
    "    $-25.0 - 500.0$, the list of *‘Sites’* is `‘\\[ostia terme del\n",
    "    nuotatore\\]‘`.\n",
    "\n",
    "2.  Define a dictionary with years (as keys), ranging from *‘Amphora\n",
    "    lower date’* to *‘Amphora upper date’* (across the dataset for a\n",
    "    given *‘Provenance’*), and zeros (as values).\n",
    "\n",
    "    Further, for each year the site count will be added as a value.\n",
    "    *Example:* In Sonata dataset, there are 7 *‘Amphora types’* present\n",
    "    in *‘Egypt’*. Therefore, 7 amphora date ranges. As a result, the\n",
    "    dictionary will contain years ranging from $-25$ to $499$,\n",
    "\n",
    "    $$dict = \\{-25:0,  -24: 0, \\ldots , 499: 0\\}.$$"
   ]
  }
 ],
 "metadata": {
  "language_info": {
   "name": "python"
  }
 },
 "nbformat": 4,
 "nbformat_minor": 5
}
